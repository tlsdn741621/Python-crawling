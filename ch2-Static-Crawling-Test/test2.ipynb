{
 "cells": [
  {
   "cell_type": "code",
   "id": "initial_id",
   "metadata": {
    "collapsed": true,
    "ExecuteTime": {
     "end_time": "2025-09-08T07:07:51.810734Z",
     "start_time": "2025-09-08T07:07:51.682533Z"
    }
   },
   "source": [
    "import bs4\n",
    "import urllib.request\n",
    "\n",
    "nateUrl = \"https://www.nate.com\"\n",
    "htmlObj = urllib.request.urlopen(nateUrl)\n",
    "webPage = htmlObj.read()\n",
    "\n",
    "bsObject = bs4.BeautifulSoup(webPage, \"html.parser\")\n",
    "# print(bsObject)\n",
    "\n",
    "# div -> id 속성 : NateBi\n",
    "tag = bsObject.find(\"div\", {\"id\":\"NateBi\"})\n",
    "print(tag)"
   ],
   "outputs": [
    {
     "name": "stdout",
     "output_type": "stream",
     "text": [
      "<div class=\"area_bi\" id=\"NateBi\" role=\"banner\">\n",
      "<h1 class=\"bi\" title=\"네이트\"><a href=\"//www.nate.com/?f=bi\" onmousedown=\"nc('NBI01');\">네이트</a></h1>\n",
      "</div>\n"
     ]
    }
   ],
   "execution_count": 2
  },
  {
   "metadata": {
    "ExecuteTime": {
     "end_time": "2025-09-08T07:14:36.089299Z",
     "start_time": "2025-09-08T07:14:36.085973Z"
    }
   },
   "cell_type": "code",
   "source": [
    "a_tag = tag.find('a')\n",
    "print(a_tag)"
   ],
   "id": "5f30a0d7322f1054",
   "outputs": [
    {
     "name": "stdout",
     "output_type": "stream",
     "text": [
      "<a href=\"//www.nate.com/?f=bi\" onmousedown=\"nc('NBI01');\">네이트</a>\n"
     ]
    }
   ],
   "execution_count": 3
  },
  {
   "metadata": {
    "ExecuteTime": {
     "end_time": "2025-09-08T07:14:39.358882Z",
     "start_time": "2025-09-08T07:14:39.354746Z"
    }
   },
   "cell_type": "code",
   "source": [
    "a_tag_href = a_tag['href']\n",
    "print(a_tag_href)"
   ],
   "id": "298426f037aded10",
   "outputs": [
    {
     "name": "stdout",
     "output_type": "stream",
     "text": [
      "//www.nate.com/?f=bi\n"
     ]
    }
   ],
   "execution_count": 4
  },
  {
   "metadata": {
    "ExecuteTime": {
     "end_time": "2025-09-08T07:14:42.189199Z",
     "start_time": "2025-09-08T07:14:42.185297Z"
    }
   },
   "cell_type": "code",
   "source": [
    "a_tag_text = a_tag.text\n",
    "print(a_tag_text)"
   ],
   "id": "f5430e372fa4cf4d",
   "outputs": [
    {
     "name": "stdout",
     "output_type": "stream",
     "text": [
      "네이트\n"
     ]
    }
   ],
   "execution_count": 5
  }
 ],
 "metadata": {
  "kernelspec": {
   "display_name": "Python 3",
   "language": "python",
   "name": "python3"
  },
  "language_info": {
   "codemirror_mode": {
    "name": "ipython",
    "version": 2
   },
   "file_extension": ".py",
   "mimetype": "text/x-python",
   "name": "python",
   "nbconvert_exporter": "python",
   "pygments_lexer": "ipython2",
   "version": "2.7.6"
  }
 },
 "nbformat": 4,
 "nbformat_minor": 5
}
