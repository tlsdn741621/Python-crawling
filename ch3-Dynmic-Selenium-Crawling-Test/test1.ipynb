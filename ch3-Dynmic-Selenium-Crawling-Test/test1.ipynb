{
 "cells": [
  {
   "cell_type": "code",
   "id": "initial_id",
   "metadata": {
    "collapsed": true,
    "ExecuteTime": {
     "end_time": "2025-09-09T01:02:25.244069Z",
     "start_time": "2025-09-09T01:02:23.216938Z"
    }
   },
   "source": [
    "# selenium 설치,\n",
    "# pip install selenium\n",
    "\n",
    "# 웹 드라이버 실행, (Chrome)\n",
    "from selenium import webdriver\n",
    "from selenium.webdriver import ActionChains\n",
    "\n",
    "# Chrome 드라이버 실행.\n",
    "driver = webdriver.Chrome()\n",
    "# 특정 URL 열기. 구글\n",
    "driver.get(\"http://www.google.com\")\n",
    "# driver.quit()"
   ],
   "outputs": [],
   "execution_count": 2
  },
  {
   "metadata": {
    "ExecuteTime": {
     "end_time": "2025-09-09T01:09:22.749633Z",
     "start_time": "2025-09-09T01:09:20.793923Z"
    }
   },
   "cell_type": "code",
   "source": [
    "# 2 웹페이지 요소 찾기 (find_element, find_elements)\n",
    "from selenium import webdriver\n",
    "\n",
    "driver = webdriver.Chrome()\n",
    "driver.get(\"http://www.google.com\")\n",
    "\n",
    "#요소 찾기 (name 속성 사용)\n",
    "search_box = driver.find_element(\"name\",\"q\")\n",
    "print(search_box)\n",
    "\n",
    "#요소 여러 개 찾기 (class 속성 사용)\n",
    "links = driver.find_elements(\"tag name\", \"a\")\n",
    "print(len(links))\n",
    "# driver.quit()"
   ],
   "id": "832ea68e3b601539",
   "outputs": [
    {
     "name": "stdout",
     "output_type": "stream",
     "text": [
      "<selenium.webdriver.remote.webelement.WebElement (session=\"4ecac2d35d7206f96187cdd82f7d72d8\", element=\"f.FC5A1A475759069EC902BED84E2AFBEA.d.DF964E27138E3BBDBB9FD353B860B8EE.e.1\")>\n",
      "16\n"
     ]
    }
   ],
   "execution_count": 3
  },
  {
   "metadata": {
    "ExecuteTime": {
     "end_time": "2025-09-09T01:09:44.991424Z",
     "start_time": "2025-09-09T01:09:34.992348Z"
    }
   },
   "cell_type": "code",
   "source": [
    "# 3 웹 페이지 로딩 대기( implicitly_wait, time.sleep)\n",
    "# 웹페이지가 완전히 로드될 때까지 기다리는 기능,\n",
    "from selenium import webdriver\n",
    "import time\n",
    "\n",
    "driver = webdriver.Chrome()\n",
    "driver.get(\"http://www.google.com\")\n",
    "\n",
    "#암묵적 대기, (최대 10초까지 대기, 실행이 되면, 즉시 실행)\n",
    "# 전역처럼, 한번만 실행함.\n",
    "# driver.implicitly_wait(10)\n",
    "\n",
    "# 명시적 대기 (5초), 무조건 5초 기다림. , 매번 코드를 작성해야함.\n",
    "time.sleep(5)\n",
    "driver.quit()"
   ],
   "id": "922746c1136a21e1",
   "outputs": [],
   "execution_count": 4
  },
  {
   "metadata": {
    "ExecuteTime": {
     "end_time": "2025-09-09T01:10:02.241065Z",
     "start_time": "2025-09-09T01:09:47.845547Z"
    }
   },
   "cell_type": "code",
   "source": [
    "# 4 특정 요소 클릭 (click)\n",
    "from selenium import webdriver\n",
    "import time\n",
    "\n",
    "driver = webdriver.Chrome()\n",
    "driver.get(\"http://www.google.com\")\n",
    "\n",
    "time.sleep(5)\n",
    "\n",
    "# 구글 , 이메일 버튼 클릭, Gmail\n",
    "button = driver.find_element(\"link text\", \"Gmail\")\n",
    "\n",
    "button.click()\n",
    "\n",
    "time.sleep(5)\n",
    "\n",
    "# driver.quit()"
   ],
   "id": "93eba7905ce583f2",
   "outputs": [],
   "execution_count": 5
  },
  {
   "metadata": {
    "ExecuteTime": {
     "end_time": "2025-09-09T01:18:46.446893Z",
     "start_time": "2025-09-09T01:18:39.200350Z"
    }
   },
   "cell_type": "code",
   "source": [
    "#5 키보드 입력(send_keys())\n",
    "from selenium import webdriver\n",
    "import time\n",
    "from selenium.webdriver.common.keys import Keys\n",
    "\n",
    "driver = webdriver.Chrome()\n",
    "driver.get(\"http://www.google.com\")\n",
    "\n",
    "driver.implicitly_wait(10)\n",
    "\n",
    "search_box = driver.find_element(\"name\",\"q\")\n",
    "\n",
    "search_box.send_keys(\"날씨\")\n",
    "search_box.send_keys(Keys.RETURN)\n",
    "\n",
    "time.sleep(5)\n",
    "\n",
    "# driver.quit()"
   ],
   "id": "69b6992f7fb933a4",
   "outputs": [],
   "execution_count": 6
  },
  {
   "metadata": {
    "ExecuteTime": {
     "end_time": "2025-09-09T01:19:14.845963Z",
     "start_time": "2025-09-09T01:19:05.716681Z"
    }
   },
   "cell_type": "code",
   "source": [
    "# 6 자바스크립트 실행 (excute_script())\n",
    "from selenium import webdriver\n",
    "import time\n",
    "from selenium.webdriver.common.keys import Keys\n",
    "\n",
    "driver = webdriver.Chrome()\n",
    "driver.get(\"https://news.google.com\")\n",
    "time.sleep(3)\n",
    "\n",
    "#페이지 맨 아래로 스크롤\n",
    "driver.execute_script(\"window.scrollTo(0, document.body.scrollHeight);\")\n",
    "\n",
    "time.sleep(3)\n",
    "# driver.quit()"
   ],
   "id": "5fa505810fe529ef",
   "outputs": [],
   "execution_count": 7
  },
  {
   "metadata": {
    "ExecuteTime": {
     "end_time": "2025-09-09T01:19:28.361355Z",
     "start_time": "2025-09-09T01:19:17.384605Z"
    }
   },
   "cell_type": "code",
   "source": [
    "# 7 새창 열기 및 핸들 전환 (window_handles)\n",
    "from selenium import webdriver\n",
    "import time\n",
    "from selenium.webdriver.common.keys import Keys\n",
    "\n",
    "driver = webdriver.Chrome()\n",
    "driver.get(\"https://www.google.com\")\n",
    "time.sleep(3)\n",
    "\n",
    "# 새창 열기,\n",
    "driver.execute_script(\"window.open('https://naver.com');\")\n",
    "time.sleep(3)\n",
    "\n",
    "# 창 핸들 가져오기.\n",
    "windows = driver.window_handles\n",
    "driver.switch_to.window(windows[0])\n",
    "\n",
    "time.sleep(3)\n",
    "# driver.quit()"
   ],
   "id": "4d8897e337c35175",
   "outputs": [],
   "execution_count": 8
  },
  {
   "metadata": {
    "ExecuteTime": {
     "end_time": "2025-09-09T01:31:20.189826Z",
     "start_time": "2025-09-09T01:30:57.432767Z"
    }
   },
   "cell_type": "code",
   "source": [
    "# 8 프레임 전환( switch_to.frame() )\n",
    "from selenium import webdriver\n",
    "import time\n",
    "from selenium.webdriver.common.keys import Keys\n",
    "\n",
    "driver = webdriver.Chrome()\n",
    "\n",
    "# iframe 테스트 사이트, w3schools\n",
    "driver.get(\"https://www.w3schools.com/html/html_iframe.asp\")\n",
    "time.sleep(3)\n",
    "\n",
    "#페이지 전환, iframe 안의 콘텐츠 로딩.\n",
    "iframe = driver.find_element(\"css selector\", \"iframe[src*='default.asp']\")\n",
    "driver.switch_to.frame(iframe)\n",
    "\n",
    "# 프레임 내 요소 찾기,\n",
    "element = driver.find_element(\"css selector\", \"h1\")\n",
    "print(element.text)\n",
    "time.sleep(3)\n",
    "# driver.quit()"
   ],
   "id": "555fc56998bab0da",
   "outputs": [
    {
     "name": "stderr",
     "output_type": "stream",
     "text": [
      "\n",
      "KeyboardInterrupt\n",
      "\n"
     ]
    }
   ],
   "execution_count": 9
  },
  {
   "metadata": {
    "ExecuteTime": {
     "end_time": "2025-09-09T01:31:37.957775Z",
     "start_time": "2025-09-09T01:31:25.984659Z"
    }
   },
   "cell_type": "code",
   "source": [
    "# 9 쿠키 가져오기 및 설정, (get_cookies, add_cookie)\n",
    "from selenium import webdriver\n",
    "import time\n",
    "from selenium.webdriver.common.keys import Keys\n",
    "\n",
    "driver = webdriver.Chrome()\n",
    "\n",
    "# iframe 테스트 사이트, w3schools\n",
    "driver.get(\"https://www.google.com\")\n",
    "time.sleep(3)\n",
    "\n",
    "# 기존 쿠키 출력\n",
    "# print(\"기존 쿠키:\")\n",
    "# print(driver.get_cookies())\n",
    "\n",
    "# 쿠키 추가,\n",
    "driver.add_cookie({\"name\":\"lsy_lunch\", \"value\":\"신라면\"})\n",
    "\n",
    "# 페이지 새로고침\n",
    "driver.refresh()\n",
    "time.sleep(3)\n",
    "\n",
    "#추가된 쿠키 확인.\n",
    "print(\"추가된 쿠키 확인 \")\n",
    "cookies = driver.get_cookies()\n",
    "print(cookies)\n",
    "\n",
    "# 특정 쿠키 값 만 출력 해보기.\n",
    "for cookie in cookies:\n",
    "    if cookie[\"name\"] == \"lsy_lunch\":\n",
    "        print(f\"추가된 값 : {cookie['value']}\")\n",
    "time.sleep(3)\n",
    "# driver.quit()"
   ],
   "id": "23854837a69a7b12",
   "outputs": [
    {
     "name": "stdout",
     "output_type": "stream",
     "text": [
      "추가된 쿠키 확인 \n",
      "[{'domain': 'www.google.com', 'httpOnly': False, 'name': 'lsy_lunch', 'path': '/', 'sameSite': 'Lax', 'secure': True, 'value': '신라면'}, {'domain': 'www.google.com', 'expiry': 1757403091, 'httpOnly': False, 'name': 'UULE', 'path': '/', 'sameSite': 'Lax', 'secure': True, 'value': 'a+cm9sZTogMQpwcm9kdWNlcjogMTIKdGltZXN0YW1wOiAxNzU3MzgxNDkxNzQ5MDAwCmxhdGxuZyB7CiAgbGF0aXR1ZGVfZTc6IDM1MTUzNTEwNAogIGxvbmdpdHVkZV9lNzogMTI5MDYwMDQ0OAp9CnJhZGl1czogNTgzNjIzLjkyMjM3MDM4NzUKcHJvdmVuYW5jZTogNgo='}, {'domain': '.google.com', 'expiry': 1773192687, 'httpOnly': True, 'name': 'NID', 'path': '/', 'sameSite': 'None', 'secure': True, 'value': '525=m0hxnESZGG69PQQeoBWq0vJS9PzjBM_OPDpbNZK2UOVPHLYPbEg_WNbBvDlLNfjJMFgHqheEOsdN9VF0yvNEnr5FU4kxu_QoqA-4bEgCjGmH3v3CNE13UgJ7bMIHDNkObRybxmlz1w4UkGZw-YruRxJu7lZKm6GzqvOopgeLXGEeRFJ8IqAGgEQUOCpIXx43PspkwT8HUkpediRF3OnCkAKSkwp_1g'}, {'domain': '.google.com', 'expiry': 1772933487, 'httpOnly': True, 'name': 'AEC', 'path': '/', 'sameSite': 'Lax', 'secure': True, 'value': 'AVh_V2iBjMWH7shi156lElACYW0M4t7iBJX4d2e_ltQldGXdAEopu9SAV7c'}]\n",
      "추가된 값 : 신라면\n"
     ]
    }
   ],
   "execution_count": 10
  },
  {
   "metadata": {
    "ExecuteTime": {
     "end_time": "2025-09-09T01:31:46.148077Z",
     "start_time": "2025-09-09T01:31:40.952813Z"
    }
   },
   "cell_type": "code",
   "source": [
    "# 10 스크린 샷 저장 (save_screenshot())\n",
    "from selenium import webdriver\n",
    "import time\n",
    "from selenium.webdriver.common.keys import Keys\n",
    "\n",
    "driver = webdriver.Chrome()\n",
    "driver.get(\"https://www.google.com\")\n",
    "time.sleep(3)\n",
    "\n",
    "# 스크린샷 저장,\n",
    "driver.save_screenshot(\"test_screenshot.png\")\n",
    "# driver.quit()"
   ],
   "id": "9c29262b20ff7e62",
   "outputs": [
    {
     "data": {
      "text/plain": [
       "True"
      ]
     },
     "execution_count": 11,
     "metadata": {},
     "output_type": "execute_result"
    }
   ],
   "execution_count": 11
  },
  {
   "metadata": {
    "ExecuteTime": {
     "end_time": "2025-09-09T02:01:58.216675Z",
     "start_time": "2025-09-09T02:01:50.866761Z"
    }
   },
   "cell_type": "code",
   "source": [
    "# 11 특정 요소가 로드될 때까지 대기 (WebDriverWait)\n",
    "from selenium import webdriver\n",
    "import time\n",
    "from selenium.webdriver.common.keys import Keys\n",
    "from selenium.webdriver.common.by import By\n",
    "from selenium.webdriver.support.ui import WebDriverWait\n",
    "from selenium.webdriver.support import expected_conditions as EC\n",
    "\n",
    "driver = webdriver.Chrome()\n",
    "driver.get(\"https://www.google.com\")\n",
    "\n",
    "# 특정 요소가 나타날 때까지 10초 대기.\n",
    "search_box = WebDriverWait(driver, 10).until(\n",
    "    EC.presence_of_element_located((By.NAME, \"q\"))\n",
    ")\n",
    "\n",
    "search_box.send_keys(\"selenium 대기 테스트 \")\n",
    "\n",
    "time.sleep(3)\n",
    "# driver.quit()"
   ],
   "id": "fcf7ee1616f6435f",
   "outputs": [],
   "execution_count": 12
  },
  {
   "metadata": {
    "ExecuteTime": {
     "end_time": "2025-09-09T02:02:07.266648Z",
     "start_time": "2025-09-09T02:02:01.946419Z"
    }
   },
   "cell_type": "code",
   "source": [
    "# 12  마우스 이벤트 조작 (ActionChains)\n",
    "from selenium import webdriver\n",
    "import time\n",
    "from selenium.webdriver.common.keys import Keys\n",
    "from selenium.webdriver.common.by import By\n",
    "from selenium.webdriver.support.ui import WebDriverWait\n",
    "from selenium.webdriver.support import expected_conditions as EC\n",
    "from selenium.webdriver.common.action_chains import ActionChains\n",
    "\n",
    "driver = webdriver.Chrome()\n",
    "driver.get(\"https://www.google.com\")\n",
    "\n",
    "# 요소 찾기,\n",
    "element = driver.find_element(\"link text\", \"Gmail\")\n",
    "\n",
    "# 마우스 오버\n",
    "actions = ActionChains(driver)\n",
    "actions.move_to_element(element).perform()\n",
    "\n",
    "time.sleep(3)\n",
    "# driver.quit()"
   ],
   "id": "13c946063fd61cda",
   "outputs": [],
   "execution_count": 13
  },
  {
   "metadata": {
    "ExecuteTime": {
     "end_time": "2025-09-09T02:02:28.063091Z",
     "start_time": "2025-09-09T02:02:17.761208Z"
    }
   },
   "cell_type": "code",
   "source": [
    "# 13 입력값 삭제,\n",
    "from selenium import webdriver\n",
    "import time\n",
    "from selenium.webdriver.common.keys import Keys\n",
    "from selenium.webdriver.common.by import By\n",
    "from selenium.webdriver.support.ui import WebDriverWait\n",
    "from selenium.webdriver.support import expected_conditions as EC\n",
    "from selenium.webdriver.common.action_chains import ActionChains\n",
    "\n",
    "driver = webdriver.Chrome()\n",
    "driver.get(\"https://www.google.com\")\n",
    "\n",
    "search_box = driver.find_element(\"name\", \"q\")\n",
    "search_box.send_keys(\"selenium 입력 테스트 \")\n",
    "\n",
    "time.sleep(3)\n",
    "\n",
    "search_box.clear()\n",
    "\n",
    "time.sleep(3)\n",
    "driver.quit()"
   ],
   "id": "90300a3240437bb1",
   "outputs": [],
   "execution_count": 14
  },
  {
   "metadata": {
    "ExecuteTime": {
     "end_time": "2025-09-09T02:02:40.185716Z",
     "start_time": "2025-09-09T02:02:29.649895Z"
    }
   },
   "cell_type": "code",
   "source": [
    "# 14 브라우저 창 크기 조절, (set_winodw_size())\n",
    "from selenium import webdriver\n",
    "import time\n",
    "from selenium.webdriver.common.keys import Keys\n",
    "from selenium.webdriver.common.by import By\n",
    "from selenium.webdriver.support.ui import WebDriverWait\n",
    "from selenium.webdriver.support import expected_conditions as EC\n",
    "from selenium.webdriver.common.action_chains import ActionChains\n",
    "\n",
    "driver = webdriver.Chrome()\n",
    "driver.get(\"https://www.google.com\")\n",
    "time.sleep(3)\n",
    "\n",
    "# 브라우저 크기 조절.\n",
    "driver.set_window_size(1500, 768)\n",
    "\n",
    "time.sleep(3)\n",
    "driver.quit()"
   ],
   "id": "c2b0b26beeb4b758",
   "outputs": [],
   "execution_count": 15
  },
  {
   "metadata": {
    "ExecuteTime": {
     "end_time": "2025-09-09T02:02:51.945946Z",
     "start_time": "2025-09-09T02:02:40.201555Z"
    }
   },
   "cell_type": "code",
   "source": [
    "# 15 특정 요소 로드 때 까지 대기 후, 클릭 해보기.\n",
    "\n",
    "from selenium import webdriver\n",
    "import time\n",
    "from selenium.webdriver.common.keys import Keys\n",
    "from selenium.webdriver.common.by import By\n",
    "from selenium.webdriver.support.ui import WebDriverWait\n",
    "from selenium.webdriver.support import expected_conditions as EC\n",
    "from selenium.webdriver.common.action_chains import ActionChains\n",
    "\n",
    "driver = webdriver.Chrome()\n",
    "driver.get(\"https://the-internet.herokuapp.com/dynamic_loading/1\")\n",
    "time.sleep(3)\n",
    "\n",
    "# start 버튼이 클릭 가능할 때까지 10초 대기 후 클릭.\n",
    "start_button = WebDriverWait(driver, 10).until(\n",
    "    EC.element_to_be_clickable((By.CSS_SELECTOR, \"#start button\"))\n",
    ")\n",
    "\n",
    "start_button.click()\n",
    "\n",
    "#로딩이 끝나고 결과 텍스트가 보일 때까지 대기.\n",
    "finish_element = WebDriverWait(driver, 10).until(\n",
    "    EC.presence_of_element_located((By.CSS_SELECTOR, \"#finish\"))\n",
    ")\n",
    "print(f\"10초후 문자열 출력: {finish_element}\")\n",
    "time.sleep(3)\n",
    "driver.quit()"
   ],
   "id": "5d2e3dbd7d45829f",
   "outputs": [
    {
     "name": "stdout",
     "output_type": "stream",
     "text": [
      "10초후 문자열 출력: <selenium.webdriver.remote.webelement.WebElement (session=\"44eedaa43a03b64c83e8f348b5fb1711\", element=\"f.37A7FCC77D93F5B370C5255D515B699B.d.5CA791C80197D6D0E8707FE51E4E36A6.e.7\")>\n"
     ]
    }
   ],
   "execution_count": 16
  },
  {
   "metadata": {
    "ExecuteTime": {
     "end_time": "2025-09-09T02:03:05.527882Z",
     "start_time": "2025-09-09T02:02:54.081597Z"
    }
   },
   "cell_type": "code",
   "source": [
    "#16 드래그 앤 드롭 (drag_and_drop())\n",
    "\n",
    "from selenium import webdriver\n",
    "import time\n",
    "from selenium.webdriver.common.keys import Keys\n",
    "from selenium.webdriver.common.by import By\n",
    "from selenium.webdriver.support.ui import WebDriverWait\n",
    "from selenium.webdriver.support import expected_conditions as EC\n",
    "from selenium.webdriver.common.action_chains import ActionChains\n",
    "\n",
    "driver = webdriver.Chrome()\n",
    "driver.get(\"https://jqueryui.com/droppable/\")\n",
    "time.sleep(3)\n",
    "\n",
    "#프레임 전환\n",
    "driver.switch_to.frame(0)\n",
    "\n",
    "#요소찾기.\n",
    "source = driver.find_element(\"id\", \"draggable\")\n",
    "target = driver.find_element(\"id\", \"droppable\")\n",
    "\n",
    "# 드래그 앤 드롭 실행.\n",
    "actions = ActionChains(driver)\n",
    "actions.drag_and_drop(source, target).perform()\n",
    "\n",
    "time.sleep(3)\n",
    "driver.quit()"
   ],
   "id": "c316e1b943fc7f21",
   "outputs": [],
   "execution_count": 17
  },
  {
   "metadata": {
    "ExecuteTime": {
     "end_time": "2025-09-09T02:03:13.649922Z",
     "start_time": "2025-09-09T02:03:06.858203Z"
    }
   },
   "cell_type": "code",
   "source": [
    "# 17 웹 페이지 소스 코드 가져오기.\n",
    "\n",
    "from selenium import webdriver\n",
    "import time\n",
    "from selenium.webdriver.common.keys import Keys\n",
    "from selenium.webdriver.common.by import By\n",
    "from selenium.webdriver.support.ui import WebDriverWait\n",
    "from selenium.webdriver.support import expected_conditions as EC\n",
    "from selenium.webdriver.common.action_chains import ActionChains\n",
    "\n",
    "driver = webdriver.Chrome()\n",
    "driver.get(\"https://www.goolge.com\")\n",
    "time.sleep(3)\n",
    "\n",
    "html = driver.page_source\n",
    "print(html[:500])\n",
    "driver.quit()"
   ],
   "id": "15976f716d249059",
   "outputs": [
    {
     "name": "stdout",
     "output_type": "stream",
     "text": [
      "<html dir=\"ltr\" lang=\"ko\"><head>\n",
      "  <meta charset=\"utf-8\">\n",
      "  <meta name=\"color-scheme\" content=\"light dark\">\n",
      "  <meta name=\"theme-color\" content=\"#fff\">\n",
      "  <meta name=\"viewport\" content=\"initial-scale=1, minimum-scale=1, width=device-width\">\n",
      "  <meta http-equiv=\"Content-Security-Policy\" content=\"require-trusted-types-for 'script'; trusted-types;\">\n",
      "  <title>개인 정보 보호 오류</title>\n",
      "  <style>/* Copyright 2017 The Chromium Authors\n",
      " * Use of this source code is governed by a BSD-style license that can be\n",
      " * \n"
     ]
    }
   ],
   "execution_count": 18
  },
  {
   "metadata": {
    "ExecuteTime": {
     "end_time": "2025-09-09T02:03:21.525624Z",
     "start_time": "2025-09-09T02:03:14.440923Z"
    }
   },
   "cell_type": "code",
   "source": [
    "# 18 파일 업로드 자동화,\n",
    "from selenium import webdriver\n",
    "import time\n",
    "from selenium.webdriver.common.keys import Keys\n",
    "from selenium.webdriver.common.by import By\n",
    "from selenium.webdriver.support.ui import WebDriverWait\n",
    "from selenium.webdriver.support import expected_conditions as EC\n",
    "from selenium.webdriver.common.action_chains import ActionChains\n",
    "\n",
    "driver = webdriver.Chrome()\n",
    "driver.get(\"https://tus.io/demo.html\")\n",
    "time.sleep(3)\n",
    "\n",
    "#파일 업로드 요소 찾기, xpath\n",
    "# 경로 : //*[@id=\"P0-0\"]\n",
    "# <input id=\"P0-0\" type=\"file\">\n",
    "upload = driver.find_element(\"xpath\", \"//input[@type='file']\")\n",
    "# 각자 업로드 테스트 할 파일 경로 지정 해주기.\n",
    "upload.send_keys(r\"D:\\Python-workspace-250901\\2-Python-crawling\\ch3-Dynmic-Selenium-Crawling-Test\\test_screenshot.png\")\n",
    "time.sleep(5)\n",
    "# driver.quit()"
   ],
   "id": "a8a6caa269f5e41d",
   "outputs": [
    {
     "ename": "InvalidArgumentException",
     "evalue": "Message: invalid argument: File not found : D:\\Python-workspace-250901\\2-Python-crawling\\ch3-Dynmic-Selenium-Crawling-Test\\test_screenshot.png\n  (Session info: chrome=139.0.7258.155)\nStacktrace:\n\tGetHandleVerifier [0x0x7ff620463d85+79397]\n\tGetHandleVerifier [0x0x7ff620463de0+79488]\n\t(No symbol) [0x0x7ff62020c0fa]\n\t(No symbol) [0x0x7ff62025aaaa]\n\t(No symbol) [0x0x7ff62028b19a]\n\t(No symbol) [0x0x7ff620255996]\n\t(No symbol) [0x0x7ff62028b3b0]\n\t(No symbol) [0x0x7ff6202b3344]\n\t(No symbol) [0x0x7ff62028af73]\n\t(No symbol) [0x0x7ff6202541b1]\n\t(No symbol) [0x0x7ff620254f43]\n\tGetHandleVerifier [0x0x7ff62072e1ed+3005069]\n\tGetHandleVerifier [0x0x7ff62072831d+2980797]\n\tGetHandleVerifier [0x0x7ff620747e0d+3110573]\n\tGetHandleVerifier [0x0x7ff62047d6de+184190]\n\tGetHandleVerifier [0x0x7ff62048516f+215567]\n\tGetHandleVerifier [0x0x7ff62046c974+115220]\n\tGetHandleVerifier [0x0x7ff62046cb29+115657]\n\tGetHandleVerifier [0x0x7ff620453268+11016]\n\tBaseThreadInitThunk [0x0x7ffdfe987374+20]\n\tRtlUserThreadStart [0x0x7ffe0019cc91+33]\n",
     "output_type": "error",
     "traceback": [
      "\u001B[31m---------------------------------------------------------------------------\u001B[39m",
      "\u001B[31mInvalidArgumentException\u001B[39m                  Traceback (most recent call last)",
      "\u001B[36mCell\u001B[39m\u001B[36m \u001B[39m\u001B[32mIn[19]\u001B[39m\u001B[32m, line 19\u001B[39m\n\u001B[32m     17\u001B[39m upload = driver.find_element(\u001B[33m\"\u001B[39m\u001B[33mxpath\u001B[39m\u001B[33m\"\u001B[39m, \u001B[33m\"\u001B[39m\u001B[33m//input[@type=\u001B[39m\u001B[33m'\u001B[39m\u001B[33mfile\u001B[39m\u001B[33m'\u001B[39m\u001B[33m]\u001B[39m\u001B[33m\"\u001B[39m)\n\u001B[32m     18\u001B[39m \u001B[38;5;66;03m# 각자 업로드 테스트 할 파일 경로 지정 해주기.\u001B[39;00m\n\u001B[32m---> \u001B[39m\u001B[32m19\u001B[39m \u001B[43mupload\u001B[49m\u001B[43m.\u001B[49m\u001B[43msend_keys\u001B[49m\u001B[43m(\u001B[49m\u001B[33;43mr\u001B[39;49m\u001B[33;43m\"\u001B[39;49m\u001B[33;43mD:\u001B[39;49m\u001B[33;43m\\\u001B[39;49m\u001B[33;43mPython-workspace-250901\u001B[39;49m\u001B[33;43m\\\u001B[39;49m\u001B[33;43m2-Python-crawling\u001B[39;49m\u001B[33;43m\\\u001B[39;49m\u001B[33;43mch3-Dynmic-Selenium-Crawling-Test\u001B[39;49m\u001B[33;43m\\\u001B[39;49m\u001B[33;43mtest_screenshot.png\u001B[39;49m\u001B[33;43m\"\u001B[39;49m\u001B[43m)\u001B[49m\n\u001B[32m     20\u001B[39m time.sleep(\u001B[32m5\u001B[39m)\n\u001B[32m     21\u001B[39m \u001B[38;5;66;03m# driver.quit()\u001B[39;00m\n",
      "\u001B[36mFile \u001B[39m\u001B[32mC:\\Program Files\\Python\\Python313\\Lib\\site-packages\\selenium\\webdriver\\remote\\webelement.py:304\u001B[39m, in \u001B[36mWebElement.send_keys\u001B[39m\u001B[34m(self, *value)\u001B[39m\n\u001B[32m    301\u001B[39m             remote_files.append(\u001B[38;5;28mself\u001B[39m._upload(file))\n\u001B[32m    302\u001B[39m         value = \u001B[38;5;28mtuple\u001B[39m(\u001B[33m\"\u001B[39m\u001B[38;5;130;01m\\n\u001B[39;00m\u001B[33m\"\u001B[39m.join(remote_files))\n\u001B[32m--> \u001B[39m\u001B[32m304\u001B[39m \u001B[38;5;28;43mself\u001B[39;49m\u001B[43m.\u001B[49m\u001B[43m_execute\u001B[49m\u001B[43m(\u001B[49m\n\u001B[32m    305\u001B[39m \u001B[43m    \u001B[49m\u001B[43mCommand\u001B[49m\u001B[43m.\u001B[49m\u001B[43mSEND_KEYS_TO_ELEMENT\u001B[49m\u001B[43m,\u001B[49m\u001B[43m \u001B[49m\u001B[43m{\u001B[49m\u001B[33;43m\"\u001B[39;49m\u001B[33;43mtext\u001B[39;49m\u001B[33;43m\"\u001B[39;49m\u001B[43m:\u001B[49m\u001B[43m \u001B[49m\u001B[33;43m\"\u001B[39;49m\u001B[33;43m\"\u001B[39;49m\u001B[43m.\u001B[49m\u001B[43mjoin\u001B[49m\u001B[43m(\u001B[49m\u001B[43mkeys_to_typing\u001B[49m\u001B[43m(\u001B[49m\u001B[43mvalue\u001B[49m\u001B[43m)\u001B[49m\u001B[43m)\u001B[49m\u001B[43m,\u001B[49m\u001B[43m \u001B[49m\u001B[33;43m\"\u001B[39;49m\u001B[33;43mvalue\u001B[39;49m\u001B[33;43m\"\u001B[39;49m\u001B[43m:\u001B[49m\u001B[43m \u001B[49m\u001B[43mkeys_to_typing\u001B[49m\u001B[43m(\u001B[49m\u001B[43mvalue\u001B[49m\u001B[43m)\u001B[49m\u001B[43m}\u001B[49m\n\u001B[32m    306\u001B[39m \u001B[43m\u001B[49m\u001B[43m)\u001B[49m\n",
      "\u001B[36mFile \u001B[39m\u001B[32mC:\\Program Files\\Python\\Python313\\Lib\\site-packages\\selenium\\webdriver\\remote\\webelement.py:573\u001B[39m, in \u001B[36mWebElement._execute\u001B[39m\u001B[34m(self, command, params)\u001B[39m\n\u001B[32m    571\u001B[39m     params = {}\n\u001B[32m    572\u001B[39m params[\u001B[33m\"\u001B[39m\u001B[33mid\u001B[39m\u001B[33m\"\u001B[39m] = \u001B[38;5;28mself\u001B[39m._id\n\u001B[32m--> \u001B[39m\u001B[32m573\u001B[39m \u001B[38;5;28;01mreturn\u001B[39;00m \u001B[38;5;28;43mself\u001B[39;49m\u001B[43m.\u001B[49m\u001B[43m_parent\u001B[49m\u001B[43m.\u001B[49m\u001B[43mexecute\u001B[49m\u001B[43m(\u001B[49m\u001B[43mcommand\u001B[49m\u001B[43m,\u001B[49m\u001B[43m \u001B[49m\u001B[43mparams\u001B[49m\u001B[43m)\u001B[49m\n",
      "\u001B[36mFile \u001B[39m\u001B[32mC:\\Program Files\\Python\\Python313\\Lib\\site-packages\\selenium\\webdriver\\remote\\webdriver.py:458\u001B[39m, in \u001B[36mWebDriver.execute\u001B[39m\u001B[34m(self, driver_command, params)\u001B[39m\n\u001B[32m    455\u001B[39m response = cast(RemoteConnection, \u001B[38;5;28mself\u001B[39m.command_executor).execute(driver_command, params)\n\u001B[32m    457\u001B[39m \u001B[38;5;28;01mif\u001B[39;00m response:\n\u001B[32m--> \u001B[39m\u001B[32m458\u001B[39m     \u001B[38;5;28;43mself\u001B[39;49m\u001B[43m.\u001B[49m\u001B[43merror_handler\u001B[49m\u001B[43m.\u001B[49m\u001B[43mcheck_response\u001B[49m\u001B[43m(\u001B[49m\u001B[43mresponse\u001B[49m\u001B[43m)\u001B[49m\n\u001B[32m    459\u001B[39m     response[\u001B[33m\"\u001B[39m\u001B[33mvalue\u001B[39m\u001B[33m\"\u001B[39m] = \u001B[38;5;28mself\u001B[39m._unwrap_value(response.get(\u001B[33m\"\u001B[39m\u001B[33mvalue\u001B[39m\u001B[33m\"\u001B[39m, \u001B[38;5;28;01mNone\u001B[39;00m))\n\u001B[32m    460\u001B[39m     \u001B[38;5;28;01mreturn\u001B[39;00m response\n",
      "\u001B[36mFile \u001B[39m\u001B[32mC:\\Program Files\\Python\\Python313\\Lib\\site-packages\\selenium\\webdriver\\remote\\errorhandler.py:232\u001B[39m, in \u001B[36mErrorHandler.check_response\u001B[39m\u001B[34m(self, response)\u001B[39m\n\u001B[32m    230\u001B[39m         alert_text = value[\u001B[33m\"\u001B[39m\u001B[33malert\u001B[39m\u001B[33m\"\u001B[39m].get(\u001B[33m\"\u001B[39m\u001B[33mtext\u001B[39m\u001B[33m\"\u001B[39m)\n\u001B[32m    231\u001B[39m     \u001B[38;5;28;01mraise\u001B[39;00m exception_class(message, screen, stacktrace, alert_text)  \u001B[38;5;66;03m# type: ignore[call-arg]  # mypy is not smart enough here\u001B[39;00m\n\u001B[32m--> \u001B[39m\u001B[32m232\u001B[39m \u001B[38;5;28;01mraise\u001B[39;00m exception_class(message, screen, stacktrace)\n",
      "\u001B[31mInvalidArgumentException\u001B[39m: Message: invalid argument: File not found : D:\\Python-workspace-250901\\2-Python-crawling\\ch3-Dynmic-Selenium-Crawling-Test\\test_screenshot.png\n  (Session info: chrome=139.0.7258.155)\nStacktrace:\n\tGetHandleVerifier [0x0x7ff620463d85+79397]\n\tGetHandleVerifier [0x0x7ff620463de0+79488]\n\t(No symbol) [0x0x7ff62020c0fa]\n\t(No symbol) [0x0x7ff62025aaaa]\n\t(No symbol) [0x0x7ff62028b19a]\n\t(No symbol) [0x0x7ff620255996]\n\t(No symbol) [0x0x7ff62028b3b0]\n\t(No symbol) [0x0x7ff6202b3344]\n\t(No symbol) [0x0x7ff62028af73]\n\t(No symbol) [0x0x7ff6202541b1]\n\t(No symbol) [0x0x7ff620254f43]\n\tGetHandleVerifier [0x0x7ff62072e1ed+3005069]\n\tGetHandleVerifier [0x0x7ff62072831d+2980797]\n\tGetHandleVerifier [0x0x7ff620747e0d+3110573]\n\tGetHandleVerifier [0x0x7ff62047d6de+184190]\n\tGetHandleVerifier [0x0x7ff62048516f+215567]\n\tGetHandleVerifier [0x0x7ff62046c974+115220]\n\tGetHandleVerifier [0x0x7ff62046cb29+115657]\n\tGetHandleVerifier [0x0x7ff620453268+11016]\n\tBaseThreadInitThunk [0x0x7ffdfe987374+20]\n\tRtlUserThreadStart [0x0x7ffe0019cc91+33]\n"
     ]
    }
   ],
   "execution_count": 19
  }
 ],
 "metadata": {
  "kernelspec": {
   "display_name": "Python 3",
   "language": "python",
   "name": "python3"
  },
  "language_info": {
   "codemirror_mode": {
    "name": "ipython",
    "version": 2
   },
   "file_extension": ".py",
   "mimetype": "text/x-python",
   "name": "python",
   "nbconvert_exporter": "python",
   "pygments_lexer": "ipython2",
   "version": "2.7.6"
  }
 },
 "nbformat": 4,
 "nbformat_minor": 5
}
